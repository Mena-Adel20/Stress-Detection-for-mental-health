{
 "cells": [
  {
   "cell_type": "code",
   "execution_count": 39,
   "id": "61d7aaae",
   "metadata": {},
   "outputs": [
    {
     "name": "stderr",
     "output_type": "stream",
     "text": [
      "[nltk_data] Downloading package stopwords to\n",
      "[nltk_data]     C:\\Users\\otaku7\\AppData\\Roaming\\nltk_data...\n",
      "[nltk_data]   Package stopwords is already up-to-date!\n",
      "[nltk_data] Downloading package punkt to\n",
      "[nltk_data]     C:\\Users\\otaku7\\AppData\\Roaming\\nltk_data...\n",
      "[nltk_data]   Package punkt is already up-to-date!\n",
      "[nltk_data] Downloading package wordnet to\n",
      "[nltk_data]     C:\\Users\\otaku7\\AppData\\Roaming\\nltk_data...\n",
      "[nltk_data]   Package wordnet is already up-to-date!\n",
      "[nltk_data] Downloading package averaged_perceptron_tagger to\n",
      "[nltk_data]     C:\\Users\\otaku7\\AppData\\Roaming\\nltk_data...\n",
      "[nltk_data]   Package averaged_perceptron_tagger is already up-to-\n",
      "[nltk_data]       date!\n"
     ]
    }
   ],
   "source": [
    "## warnings\n",
    "import warnings\n",
    "warnings.filterwarnings(\"ignore\")\n",
    "\n",
    "## for data\n",
    "import numpy as np\n",
    "import pandas as pd\n",
    "\n",
    "## for plotting\n",
    "import matplotlib.pyplot as plt\n",
    "import seaborn as sns\n",
    "\n",
    "## Bag of Words\n",
    "from sklearn.feature_extraction.text import CountVectorizer\n",
    "\n",
    "## TF-IDF \n",
    "from sklearn.feature_extraction.text import TfidfVectorizer\n",
    "\n",
    "## Train-Test Split\n",
    "from sklearn.model_selection import train_test_split\n",
    "\n",
    "## for processing\n",
    "import nltk\n",
    "import re\n",
    "import ftfy\n",
    "from nltk.stem import WordNetLemmatizer \n",
    "from nltk.corpus import stopwords\n",
    "nltk.download('stopwords')\n",
    "nltk.download('punkt')\n",
    "nltk.download('wordnet')\n",
    "nltk.download('averaged_perceptron_tagger')\n",
    "\n",
    "## Feature selection\n",
    "from sklearn import feature_selection\n",
    "\n",
    "## Support vector machine\n",
    "from sklearn.pipeline import Pipeline\n",
    "import sklearn.metrics as skm\n",
    "from sklearn.metrics import confusion_matrix, accuracy_score\n",
    "from sklearn.svm import SVC\n",
    "\n",
    "## for saving and loading model\n",
    "import pickle\n",
    "\n",
    "## for word embedding with Spacy\n",
    "import spacy\n",
    "import en_core_web_lg\n"
   ]
  },
  {
   "cell_type": "code",
   "execution_count": 40,
   "id": "75534b54",
   "metadata": {},
   "outputs": [],
   "source": [
    "# Expand Contraction\n",
    "cList = {\n",
    "  \"ain't\": \"am not\",\n",
    "  \"aren't\": \"are not\",\n",
    "  \"can't\": \"cannot\",\n",
    "  \"can't've\": \"cannot have\",\n",
    "  \"'cause\": \"because\",\n",
    "  \"could've\": \"could have\",\n",
    "  \"couldn't\": \"could not\",\n",
    "  \"couldn't've\": \"could not have\",\n",
    "  \"didn't\": \"did not\",\n",
    "  \"doesn't\": \"does not\",\n",
    "  \"don't\": \"do not\",\n",
    "  \"hadn't\": \"had not\",\n",
    "  \"hadn't've\": \"had not have\",\n",
    "  \"hasn't\": \"has not\",\n",
    "  \"haven't\": \"have not\",\n",
    "  \"he'd\": \"he would\",\n",
    "  \"he'd've\": \"he would have\",\n",
    "  \"he'll\": \"he will\",\n",
    "  \"he'll've\": \"he will have\",\n",
    "  \"he's\": \"he is\",\n",
    "  \"how'd\": \"how did\",\n",
    "  \"how'd'y\": \"how do you\",\n",
    "  \"how'll\": \"how will\",\n",
    "  \"how's\": \"how is\",\n",
    "  \"I'd\": \"I would\",\n",
    "  \"I'd've\": \"I would have\",\n",
    "  \"I'll\": \"I will\",\n",
    "  \"I'll've\": \"I will have\",\n",
    "  \"I'm\": \"I am\",\n",
    "  \"I've\": \"I have\",\n",
    "  \"isn't\": \"is not\",\n",
    "  \"it'd\": \"it had\",\n",
    "  \"it'd've\": \"it would have\",\n",
    "  \"it'll\": \"it will\",\n",
    "  \"it'll've\": \"it will have\",\n",
    "  \"it's\": \"it is\",\n",
    "  \"let's\": \"let us\",\n",
    "  \"ma'am\": \"madam\",\n",
    "  \"mayn't\": \"may not\",\n",
    "  \"might've\": \"might have\",\n",
    "  \"mightn't\": \"might not\",\n",
    "  \"mightn't've\": \"might not have\",\n",
    "  \"must've\": \"must have\",\n",
    "  \"mustn't\": \"must not\",\n",
    "  \"mustn't've\": \"must not have\",\n",
    "  \"needn't\": \"need not\",\n",
    "  \"needn't've\": \"need not have\",\n",
    "  \"o'clock\": \"of the clock\",\n",
    "  \"oughtn't\": \"ought not\",\n",
    "  \"oughtn't've\": \"ought not have\",\n",
    "  \"shan't\": \"shall not\",\n",
    "  \"sha'n't\": \"shall not\",\n",
    "  \"shan't've\": \"shall not have\",\n",
    "  \"she'd\": \"she would\",\n",
    "  \"she'd've\": \"she would have\",\n",
    "  \"she'll\": \"she will\",\n",
    "  \"she'll've\": \"she will have\",\n",
    "  \"she's\": \"she is\",\n",
    "  \"should've\": \"should have\",\n",
    "  \"shouldn't\": \"should not\",\n",
    "  \"shouldn't've\": \"should not have\",\n",
    "  \"so've\": \"so have\",\n",
    "  \"so's\": \"so is\",\n",
    "  \"that'd\": \"that would\",\n",
    "  \"that'd've\": \"that would have\",\n",
    "  \"that's\": \"that is\",\n",
    "  \"there'd\": \"there had\",\n",
    "  \"there'd've\": \"there would have\",\n",
    "  \"there's\": \"there is\",\n",
    "  \"they'd\": \"they would\",\n",
    "  \"they'd've\": \"they would have\",\n",
    "  \"they'll\": \"they will\",\n",
    "  \"they'll've\": \"they will have\",\n",
    "  \"they're\": \"they are\",\n",
    "  \"they've\": \"they have\",\n",
    "  \"to've\": \"to have\",\n",
    "  \"wasn't\": \"was not\",\n",
    "  \"we'd\": \"we had\",\n",
    "  \"we'd've\": \"we would have\",\n",
    "  \"we'll\": \"we will\",\n",
    "  \"we'll've\": \"we will have\",\n",
    "  \"we're\": \"we are\",\n",
    "  \"we've\": \"we have\",\n",
    "  \"weren't\": \"were not\",\n",
    "  \"what'll\": \"what will\",\n",
    "  \"what'll've\": \"what will have\",\n",
    "  \"what're\": \"what are\",\n",
    "  \"what's\": \"what is\",\n",
    "  \"what've\": \"what have\",\n",
    "  \"when's\": \"when is\",\n",
    "  \"when've\": \"when have\",\n",
    "  \"where'd\": \"where did\",\n",
    "  \"where's\": \"where is\",\n",
    "  \"where've\": \"where have\",\n",
    "  \"who'll\": \"who will\",\n",
    "  \"who'll've\": \"who will have\",\n",
    "  \"who's\": \"who is\",\n",
    "  \"who've\": \"who have\",\n",
    "  \"why's\": \"why is\",\n",
    "  \"why've\": \"why have\",\n",
    "  \"will've\": \"will have\",\n",
    "  \"won't\": \"will not\",\n",
    "  \"won't've\": \"will not have\",\n",
    "  \"would've\": \"would have\",\n",
    "  \"wouldn't\": \"would not\",\n",
    "  \"wouldn't've\": \"would not have\",\n",
    "  \"y'all\": \"you all\",\n",
    "  \"y'alls\": \"you alls\",\n",
    "  \"y'all'd\": \"you all would\",\n",
    "  \"y'all'd've\": \"you all would have\",\n",
    "  \"y'all're\": \"you all are\",\n",
    "  \"y'all've\": \"you all have\",\n",
    "  \"you'd\": \"you had\",\n",
    "  \"you'd've\": \"you would have\",\n",
    "  \"you'll\": \"you you will\",\n",
    "  \"you'll've\": \"you you will have\",\n",
    "  \"you're\": \"you are\",\n",
    "  \"you've\": \"you have\"\n",
    "}\n",
    "\n",
    "c_re = re.compile('(%s)' % '|'.join(cList.keys()))\n",
    "\n",
    "def expandContractions(text, c_re=c_re):\n",
    "    def replace(match):\n",
    "        return cList[match.group(0)]\n",
    "    return c_re.sub(replace, text)"
   ]
  },
  {
   "cell_type": "code",
   "execution_count": 41,
   "id": "b58a7775",
   "metadata": {},
   "outputs": [],
   "source": [
    "## Function to perform stepwise cleaning process\n",
    "def text_cleaner(tweet):\n",
    "\n",
    "    cleaned_tweets = []\n",
    "    tweet = tweet.lower() #lowercase\n",
    "    \n",
    "    # if url links then don't append to avoid news articles\n",
    "    # also check tweet length, save those > 5 \n",
    "    if re.match(\"(\\w+:\\/\\/\\S+)\", tweet) == None and len(tweet) > 5:\n",
    "    \n",
    "        #remove hashtag, @mention, emoji and image URLs\n",
    "        tweet = ' '.join(re.sub(\"(@[A-Za-z0-9]+)|(\\#[A-Za-z0-9]+)|(<.>)|(pic\\.twitter\\.com\\/.*)\", \" \", tweet).split())\n",
    "\n",
    "        #fix weirdly encoded texts\n",
    "        tweet = ftfy.fix_text(tweet)\n",
    "\n",
    "        #expand contraction\n",
    "        tweet = expandContractions(tweet)\n",
    "\n",
    "\n",
    "        #remove punctuation\n",
    "        tweet = ' '.join(re.sub(\"([^0-9A-Za-z \\t])\", \" \", tweet).split())\n",
    "\n",
    "        #stop words and lemmatization\n",
    "        stop_words = set(stopwords.words('english'))\n",
    "        word_tokens = nltk.word_tokenize(tweet)\n",
    "\n",
    "        lemmatizer=WordNetLemmatizer()\n",
    "        filtered_sentence = [lemmatizer.lemmatize(word) for word in word_tokens if not word in stop_words]\n",
    "        # back to string from list\n",
    "        tweet = ' '.join(filtered_sentence) # join words with a space in between them\n",
    "\n",
    "        cleaned_tweets.append(tweet)\n",
    "        \n",
    "\n",
    "    return cleaned_tweets\n",
    "     "
   ]
  },
  {
   "cell_type": "code",
   "execution_count": 42,
   "id": "0882cb33",
   "metadata": {},
   "outputs": [
    {
     "data": {
      "text/plain": [
       "SVC()"
      ]
     },
     "execution_count": 42,
     "metadata": {},
     "output_type": "execute_result"
    }
   ],
   "source": [
    "with open(\"SVM_model.pkl\", 'rb') as file:  \n",
    "    model = pickle.load(file)\n",
    "\n",
    "model"
   ]
  },
  {
   "cell_type": "code",
   "execution_count": 56,
   "id": "cedd3c6d",
   "metadata": {},
   "outputs": [
    {
     "data": {
      "text/plain": [
       "LogisticRegression()"
      ]
     },
     "execution_count": 56,
     "metadata": {},
     "output_type": "execute_result"
    }
   ],
   "source": [
    "with open(\"LR_model.pkl\", 'rb') as file:  \n",
    "    lr = pickle.load(file)\n",
    "\n",
    "lr"
   ]
  },
  {
   "cell_type": "code",
   "execution_count": 43,
   "id": "21be78d2",
   "metadata": {},
   "outputs": [],
   "source": [
    "nlp = en_core_web_lg.load()"
   ]
  },
  {
   "cell_type": "code",
   "execution_count": 44,
   "id": "6ca38a5d",
   "metadata": {},
   "outputs": [],
   "source": [
    "st1=\"\"\"\n",
    "Today has been quite challenging. I woke up feeling overwhelmed by the tasks ahead. The workload at the office seems never-ending, and there's a constant pressure to meet deadlines. I find myself struggling to balance work and personal life, and it's taking a toll on my mental well-being. During lunch, I couldn't shake off the feeling of anxiety and kept replaying all the things I need to do in my mind.\n",
    "\n",
    "In the afternoon, a meeting with a difficult client added to my stress levels. The pressure to perform well and the fear of making mistakes made my heart race. As the day progressed, I felt the weight of responsibility on my shoulders, and I couldn't stop thinking about how I would manage everything.\n",
    "\n",
    "In the evening, I tried to unwind by going for a walk, but my mind kept racing with thoughts about the challenges I face. Despite my efforts to relax, I still feel a lingering sense of stress and worry. I hope tomorrow will be a better day\n",
    "\"\"\""
   ]
  },
  {
   "cell_type": "code",
   "execution_count": 45,
   "id": "ac445caf",
   "metadata": {},
   "outputs": [],
   "source": [
    "corpus = text_cleaner(st1)"
   ]
  },
  {
   "cell_type": "code",
   "execution_count": 46,
   "id": "affc09b5",
   "metadata": {},
   "outputs": [],
   "source": [
    "test = pd.np.array([pd.np.array([token.vector for token in nlp(s)]).mean(axis=0) * pd.np.ones((300)) \\\n",
    "                           for s in corpus])"
   ]
  },
  {
   "cell_type": "code",
   "execution_count": 57,
   "id": "048ebb67",
   "metadata": {},
   "outputs": [
    {
     "data": {
      "text/plain": [
       "array([1], dtype=int64)"
      ]
     },
     "execution_count": 57,
     "metadata": {},
     "output_type": "execute_result"
    }
   ],
   "source": [
    "model.predict(test)"
   ]
  },
  {
   "cell_type": "code",
   "execution_count": 58,
   "id": "e2692420",
   "metadata": {},
   "outputs": [
    {
     "data": {
      "text/plain": [
       "array([1], dtype=int64)"
      ]
     },
     "execution_count": 58,
     "metadata": {},
     "output_type": "execute_result"
    }
   ],
   "source": [
    "lr.predict(test)"
   ]
  },
  {
   "cell_type": "code",
   "execution_count": 48,
   "id": "88eeff98",
   "metadata": {},
   "outputs": [],
   "source": [
    "st2=\"\"\"I don't have the ability to cope with it anymore. I'm trying, but a lot of things are triggering me, \n",
    "and I'm shutting down at work, just finding the place I feel safest, and staying there for an hour or two until \n",
    "I feel like I can do something again. I'm tired of watching my back, tired of traveling to places I don't feel safe, \n",
    "tired of reliving that moment, tired of being triggered, tired of the stress, tired of anxiety and knots in my stomach, \n",
    "tired of irrational thought when triggered, tired of irrational paranoia. I'm exhausted and need a break, but know it won't be \n",
    "enough until I journey the long road through therapy. I'm not suicidal at all, just wishing this pain and misery would end, to have my life back again.\"\"\"\n"
   ]
  },
  {
   "cell_type": "code",
   "execution_count": 49,
   "id": "fbb634e1",
   "metadata": {},
   "outputs": [],
   "source": [
    "c2=text_cleaner(st2)"
   ]
  },
  {
   "cell_type": "code",
   "execution_count": 50,
   "id": "29443738",
   "metadata": {},
   "outputs": [],
   "source": [
    "t2 = pd.np.array([pd.np.array([token.vector for token in nlp(s)]).mean(axis=0) * pd.np.ones((300)) \\\n",
    "                           for s in c2])"
   ]
  },
  {
   "cell_type": "code",
   "execution_count": 51,
   "id": "5b7f79e9",
   "metadata": {},
   "outputs": [
    {
     "data": {
      "text/plain": [
       "array([1], dtype=int64)"
      ]
     },
     "execution_count": 51,
     "metadata": {},
     "output_type": "execute_result"
    }
   ],
   "source": [
    "model.predict(t2)"
   ]
  },
  {
   "cell_type": "code",
   "execution_count": 60,
   "id": "cab435c5",
   "metadata": {},
   "outputs": [
    {
     "data": {
      "text/plain": [
       "array([1], dtype=int64)"
      ]
     },
     "execution_count": 60,
     "metadata": {},
     "output_type": "execute_result"
    }
   ],
   "source": [
    "lr.predict(t2)"
   ]
  },
  {
   "cell_type": "code",
   "execution_count": 52,
   "id": "e0adb7bf",
   "metadata": {},
   "outputs": [],
   "source": [
    "nst=\"\"\"In case this is the first time you're reading this post... We are looking for people who are willing \n",
    "to complete some online questionnaires about employment and well-being which we hope will help us to improve services \n",
    "for assisting people with mental health difficulties to obtain and retain employment. We are developing an employment \n",
    "questionnaire for people with personality disorders; however we are looking for people from all backgrounds to complete it. \n",
    "That means you do not need to have a diagnosis of personality disorder – you just need to have an interest in completing the \n",
    "online questionnaires. The questionnaires will only take about 10 minutes to complete online. For your participation, we’ll \n",
    "donate £1 on your behalf to a mental health charity (Young Minds: Child & Adolescent Mental Health, Mental Health Foundation, or Rethink)\"\"\"\n"
   ]
  },
  {
   "cell_type": "code",
   "execution_count": 53,
   "id": "967134fe",
   "metadata": {},
   "outputs": [],
   "source": [
    "nc=text_cleaner(nst)"
   ]
  },
  {
   "cell_type": "code",
   "execution_count": 54,
   "id": "06bdc06f",
   "metadata": {},
   "outputs": [],
   "source": [
    "t3 = pd.np.array([pd.np.array([token.vector for token in nlp(s)]).mean(axis=0) * pd.np.ones((300)) \\\n",
    "                           for s in nc])"
   ]
  },
  {
   "cell_type": "code",
   "execution_count": 55,
   "id": "b401e100",
   "metadata": {},
   "outputs": [
    {
     "data": {
      "text/plain": [
       "array([0], dtype=int64)"
      ]
     },
     "execution_count": 55,
     "metadata": {},
     "output_type": "execute_result"
    }
   ],
   "source": [
    "model.predict(t3)"
   ]
  },
  {
   "cell_type": "code",
   "execution_count": 61,
   "id": "6a03eb26",
   "metadata": {},
   "outputs": [
    {
     "data": {
      "text/plain": [
       "array([0], dtype=int64)"
      ]
     },
     "execution_count": 61,
     "metadata": {},
     "output_type": "execute_result"
    }
   ],
   "source": [
    "lr.predict(t3)"
   ]
  },
  {
   "cell_type": "code",
   "execution_count": null,
   "id": "6a410609",
   "metadata": {},
   "outputs": [],
   "source": []
  }
 ],
 "metadata": {
  "kernelspec": {
   "display_name": "Python 3 (ipykernel)",
   "language": "python",
   "name": "python3"
  },
  "language_info": {
   "codemirror_mode": {
    "name": "ipython",
    "version": 3
   },
   "file_extension": ".py",
   "mimetype": "text/x-python",
   "name": "python",
   "nbconvert_exporter": "python",
   "pygments_lexer": "ipython3",
   "version": "3.9.7"
  }
 },
 "nbformat": 4,
 "nbformat_minor": 5
}
